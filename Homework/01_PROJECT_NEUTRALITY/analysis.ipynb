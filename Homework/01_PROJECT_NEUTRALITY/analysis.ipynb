{
 "cells": [
  {
   "cell_type": "markdown",
   "id": "579b567a-2b80-4bf1-8cc1-c514da76ca50",
   "metadata": {},
   "source": [
    "# (ADA) Homework 1: Scoring the Language Model Olympics\n",
    "\n",
    "---\n",
    "\n",
    "By the end of this homework, we expect you to be able to:\n",
    "\n",
    "- Load data and handle data using pandas;\n",
    "- Navigate the documentation of Python packages by yourself;\n",
    "- Filter and tidy up noisy real-world datasets;\n",
    "- Aggregate your data in different (and hopefully helpful) ways;\n",
    "- Create meaningful visualizations to analyze the data;\n",
    "- Communicate your findings in a clear and concise manner\n",
    "\n",
    "---\n",
    "\n",
    "**Important Dates.**\n",
    "\n",
    "- Homework release: Fri 04 Oct 2024\n",
    "- Homework due: Sat 18 Oct 2024, 23:59\n",
    "- Grade release: Mon 04 Nov 2024\n",
    "\n",
    "**Some rules**\n",
    "\n",
    "- You are allowed to use any built-in Python library that comes with Anaconda. If you want to use an external library, you may do so, but must justify your choice.\n",
    "- Make sure you use the data folder provided in the repository in read-only mode. (Or alternatively, be sure you don’t change any of the files.)\n",
    "- Be sure to provide a concise textual description of your thought process, the assumptions you made, the solution you implemented, and explanations for your answers. A notebook that only has code cells will not suffice. To avoid confusion: use short comments for longer code answers.\n",
    "- For questions containing the /Discuss:/ prefix, answer not with code, but with a textual explanation (in markdown).\n",
    "- Back up any hypotheses and claims with data, since this is an important aspect of the course.\n",
    "- Please write all your comments in English, and use meaningful variable names in your code. Your repo should have a single notebook (plus the required data files) in the master/main branch. If there are multiple notebooks present, we will not grade anything.\n",
    "- We will not run your notebook for you! Rather, we will grade it as is, which means that only the results contained in your evaluated code cells will be considered, and we will not see the results in unevaluated code cells. Thus, be sure to hand in a fully-run and evaluated notebook. In order to check whether everything looks as intended, you can check the rendered notebook on the GitHub website once you have pushed your solution there.\n",
    "- In continuation to the previous point, interactive plots, such as those generated using the ‘plotly’ package, should be strictly avoided! Make sure to print results and/or dataframes that confirm you have properly addressed the task.\n",
    "\n",
    "**A Note on using Language Models (LMs)**\n",
    "\n",
    "If you try hard enough, you will likely get away with cheating. Fortunately, our job is not to police, but rather to educate! So, please consider the following:\n",
    "- Presumably, you are taking this course to learn something! LMs are not always right ([they often fail in silly ways](https://community.openai.com/t/why-9-11-is-larger-than-9-9-incredible/869824/4)). This course should prepare you to detect when they are wrong!\n",
    "- Some of the TAs on this course literally published many works on detecting machine-generated text.\n",
    "---"
   ]
  },
  {
   "cell_type": "markdown",
   "id": "4f85896e-c0ae-4ae3-af41-46149faa2278",
   "metadata": {},
   "source": [
    "## Context\n",
    "\n",
    "Context\n",
    "AI is booming! Newspapers, influencers, and your relatives all agree that AI is important. But while almost everyone agrees that AI is the future, much is unclear about what that future looks like…\n",
    "\n",
    "Freshly graduated from the EPFL, you are hired by the Swiss government to advise on a large-scale “AI integration” initiative code-named **\"NEUTRALITY\"** (Navigating Efficient Upgrades Through Robust Artificial Learning Integration Techniques Yearly). Convinced by the stunning progress in language modeling, the government would like to battle the growing shortages in the education sector by using LMs. Your job description: investigate which LMs might be best suited!\n",
    "\n",
    "You are given the results of three LMs on the [“Massive Multitask Language Understanding (MMLU)”](https://arxiv.org/abs/2009.03300) dataset to compare. This famous dataset consists of 57 subjects with multiple-choice questions, covering diverse subjects like mathematics, computer science, history, and law. Most providers of state-of-the-art LMs use this dataset to showcase the versatility of their latest models. Unfortunately, Horta-Ribeiro, the intern responsible for collecting the results, didn’t take EPFL’s famous ADA course. As a result, the collected datasets are slightly corrupted.\n",
    "\n",
    "### A very brief primer on Language Models\n",
    "Language models (LMs) are sophisticated statistical models designed to understand and generate human-like text. At their core, LMs are trained to predict the most likely continuation of a given input text. For example, given the input \"The cat sat on the,\" an LM might predict \"mat\" as a likely continuation.\n",
    "LMs are trained on vast text samples from various sources, including books, websites, and social media. This extensive training allows them to capture patterns and relationships in language, enabling them to generate coherent and contextually appropriate text across a wide range of topics and styles.\n",
    "\n",
    "While LMs can produce text that appears to be written by intelligent humans, it's important to note that their capabilities can diverge from human intelligence in unexpected ways. They may sometimes generate factually incorrect information or struggle with complex reasoning tasks.\n",
    "\n",
    "Two key concepts in understanding LMs are:\n",
    "1. **Tokens**: LMs process text using \"tokens\" rather than individual characters. Tokens can be words, parts of words, or punctuation marks. For example, the sentence \"I love AI!\" might be tokenized as [\"I\", \"love\", \"AI\", \"!\"]. Tokenization is the first step in both training and using an LM.\n",
    "2. **Context**: The input text provided to an LM is called the \"context.\" This context informs the model's predictions or generations. A longer or more specific context often leads to more accurate and relevant outputs.\n",
    "\n",
    "[See: Wikipedia entry on language models](https://en.wikipedia.org/wiki/Large_language_model)\n",
    "\n",
    "###  Files for this assignment\n",
    "This assignment is divided into three tasks, each of which should bring you a step closer to providing a recommendation toward project NEUTRALITY’s objectives:\n",
    "\n",
    "- **Task 1**: Inspecting the results and getting your first model ranking\n",
    "- **Task 2**: Inspecting the underlying data used to generate the results for possible biases\n",
    "- **Task 3**: Learning about tokens and providing a final recommendation\n",
    "\n",
    "\n",
    "```\n",
    "📁 PROJECT_NEUTRALITY\n",
    "│\n",
    "├── 📄 analysis.ipynb (the file you're currently reading!)\n",
    "├── 📄 requirements.txt (install into your environment)\n",
    "│\n",
    "├── 📁 task_1\n",
    "├── 📁 task_2\n",
    "└── 📁 task_2.5\n",
    "```   \n",
    " "
   ]
  },
  {
   "cell_type": "code",
   "execution_count": 3,
   "id": "95ce4c12-9681-401e-9489-aa0765b19d5d",
   "metadata": {},
   "outputs": [],
   "source": [
    "# please make sure you install the packages listed in the requirements.txt file in your environment!\n",
    "# using pip\n",
    "# pip install -r requirements.txt\n",
    "#\n",
    "# using Conda:\n",
    "# conda create --name <env_name> --file requirements.txt\n",
    "#\n",
    "# some basic imports\n",
    "import os\n",
    "import pandas as pd\n",
    "import numpy as np\n",
    "import seaborn as sns\n",
    "import matplotlib.pyplot as plt\n",
    "sns.set_theme()\n",
    "import warnings\n",
    "from scipy.stats import ttest_ind, chi2_contingency"
   ]
  },
  {
   "cell_type": "markdown",
   "id": "e62594ad-4f5f-4a46-80bc-deacf66b62e9",
   "metadata": {},
   "source": [
    "## Task 1 (18 points): What's in an average anyway?\n",
    "\n",
    "The files needed to complete task 1 can be found in the folder \"`data/task_1/`:\n",
    "```\n",
    "task_1/\n",
    "│\n",
    "├── mmlu_data/\n",
    "│   └── test.csv\n",
    "│\n",
    "└── lm_scores/\n",
    "    ├── lm_X.csv\n",
    "    ├── lm_Y.csv\n",
    "    └── lm_Z.csv\n",
    "```\n",
    "\n",
    "We will start by loading, (manually) inspecting, and cleaning the data. Although it doesn't seem \"glamorous\" (nor is it particularly fun...) - manually inspecting data is extremely important! In fact, it's one of the few things most AI and Data Science researchers agree on :). Next, we will take a first pass on ordering our Olympic podium between three LMs."
   ]
  },
  {
   "cell_type": "markdown",
   "id": "f8605646-79fa-4cb3-8137-b6951bd1e064",
   "metadata": {},
   "source": [
    "### 1.1 (1 pt)\n",
    " \n",
    "Load the subfiles contained in the `mmlu_data` and `lm_scores` folders into separate dataframes:\n",
    "- `df_test`\n",
    "- `df_x`\n",
    "- `df_y`\n",
    "- `df_z`\n",
    "\n",
    "for each, print their sizes."
   ]
  },
  {
   "cell_type": "code",
   "execution_count": 4,
   "id": "e6ce5e96-7de6-463d-a00b-6a4b2cfc8cb3",
   "metadata": {},
   "outputs": [
    {
     "name": "stdout",
     "output_type": "stream",
     "text": [
      "14042\n",
      "13882\n",
      "13978\n",
      "13923\n"
     ]
    }
   ],
   "source": [
    "df_test = pd.read_csv('./task_1/mmlu_data/test.csv')\n",
    "df_x = pd.read_csv('./task_1/lm_scores/lm_X.csv')\n",
    "df_y = pd.read_csv('./task_1/lm_scores/lm_Y.csv')\n",
    "df_z = pd.read_csv('./task_1/lm_scores/lm_Z.csv')\n",
    "\n",
    "print(len(df_test))\n",
    "print(len(df_x))\n",
    "print(len(df_y))\n",
    "print(len(df_z))\n"
   ]
  },
  {
   "cell_type": "code",
   "execution_count": 5,
   "id": "9d9254b2",
   "metadata": {},
   "outputs": [
    {
     "name": "stdout",
     "output_type": "stream",
     "text": [
      "[Dataframe df_test] 14042 rows and 8 columns.\n",
      "[Dataframe df_x   ] 13882 rows and 2 columns.\n",
      "[Dataframe df_y   ] 13978 rows and 2 columns.\n",
      "[Dataframe df_z   ] 13923 rows and 2 columns.\n"
     ]
    }
   ],
   "source": [
    "def _print_size(name: str, df: pd.DataFrame):\n",
    "    print(f'[Dataframe {name:7}] {df.shape[0]} rows and {df.shape[1]} columns.')\n",
    "# Corrected version:\n",
    "\n",
    "_print_size('df_test', df_test)\n",
    "_print_size('df_x', df_x)\n",
    "_print_size('df_y', df_y)\n",
    "_print_size('df_z', df_z)"
   ]
  },
  {
   "cell_type": "markdown",
   "id": "acbda57d-7df2-4e33-b31c-52bc0af6753e",
   "metadata": {},
   "source": [
    "### 1.2 (4 pt)\n",
    "Unfortunately, LMs don't always output the format we want. In the column `result`, the value should be one of A, B, C, or D. \n",
    "\n",
    "A. For each of the LM score dataframes, use a `value_counts()` operation and print the results. \n",
    "\n",
    "B. /Discuss:/ Inspect the results and describe the types of answer formats you see. Besides the \"expected\" case, you should be able to find at least four unexpected formats."
   ]
  },
  {
   "cell_type": "code",
   "execution_count": 6,
   "id": "79936f23",
   "metadata": {},
   "outputs": [],
   "source": [
    "# A\n",
    "df_x_counts = df_x['result'].value_counts(dropna=False)\n",
    "df_y_counts = df_y['result'].value_counts(dropna=False)\n",
    "df_z_counts = df_z['result'].value_counts(dropna=False)"
   ]
  },
  {
   "cell_type": "code",
   "execution_count": 7,
   "id": "620f46cc",
   "metadata": {},
   "outputs": [
    {
     "name": "stdout",
     "output_type": "stream",
     "text": [
      "Empty DataFrame\n",
      "Columns: [question_id, result]\n",
      "Index: []\n"
     ]
    }
   ],
   "source": [
    "# B\n",
    "df_x_a_space = df_x[df_x['result'] == 'A ']\n",
    "#print(df_x_a_space)\n",
    "\n",
    "df_x_diff_letter = df_x[df_x['result'] == 'A.']\n",
    "print(df_x_diff_letter)\n",
    "\n",
    "\n",
    "# We can observe that the first unexpected form is when we have a space after the answer.\n",
    "\n",
    "# Clearly the second unexpected is when they give a full answer, and not only the letter.\n",
    "\n",
    "# The third unexpected form is when they write \"Answer : A\", instead of just the letter.\n",
    "\n",
    "\n"
   ]
  },
  {
   "cell_type": "markdown",
   "id": "88c5551d-1968-427b-bdd6-51d996898e7c",
   "metadata": {},
   "source": [
    "### 1.3 (5 pt)\n",
    "Oh oh... That doesn't look great. Simply dropping all invalid answers seems overly wasteful, yet fixing all of these looks like a mess! Instead, let's focus for now on fixing just those answers of length < 10 characters that require only a single `str.replace()` operation. \n",
    "\n",
    "For example, if the answer looks like `--A--`, we could fix this by using the following simple function:\n",
    "\n",
    "```\n",
    "def clean_answer(s, pattern='-'):\n",
    "    return str(s).replace(pattern, '')\n",
    "\n",
    "dirty_answer = '--A--'\n",
    "clean_answer = clean_answer(dirty_answer)\n",
    "```\n",
    "\n",
    "A. Filter the three score dataframes to include only answers with less than 10 characters. Make a deep copy of the dataframes as you filter them.\n",
    "\n",
    "B. Modify the `clean_answer()` example function to clean the answers in the filtered data frames using the `apply()` functionality. Finally, make sure **all remaining answers are one of `A, B, C, or D`.**\n",
    "\n",
    "C. /Discuss:/ Compare the sizes of the original and filtered data frames. What do you see? Why might this be a problem?"
   ]
  },
  {
   "cell_type": "code",
   "execution_count": 8,
   "id": "aef1f933-20bf-426a-ac9d-a35e273b9bd2",
   "metadata": {},
   "outputs": [],
   "source": [
    "# A\n",
    "copy_df_x = df_x[df_x['result'].astype(str).apply(len) < 10].copy()\n",
    "copy_df_y = df_y[df_y['result'].astype(str).apply(len) < 10].copy()\n",
    "copy_df_z = df_z[df_z['result'].astype(str).apply(len) < 10].copy()"
   ]
  },
  {
   "cell_type": "code",
   "execution_count": 9,
   "id": "fd54f296",
   "metadata": {},
   "outputs": [
    {
     "name": "stdout",
     "output_type": "stream",
     "text": [
      "10071\n",
      "9603\n",
      "9829\n"
     ]
    }
   ],
   "source": [
    "# B\n",
    "def clean_answer(s, pattern=' '):\n",
    "    return str(s).replace(pattern, '')\n",
    "\n",
    "copy_df_x['result'] = copy_df_x['result'].apply(clean_answer)\n",
    "copy_df_y['result'] = copy_df_y['result'].apply(clean_answer)\n",
    "copy_df_z['result'] = copy_df_z['result'].apply(clean_answer)\n",
    "\n",
    "verification = ['A', 'B', 'C', 'D']\n",
    "\n",
    "copy_df_x = copy_df_x[copy_df_x['result'].isin(verification)]\n",
    "copy_df_y = copy_df_y[copy_df_y['result'].isin(verification)]\n",
    "copy_df_z = copy_df_z[copy_df_z['result'].isin(verification)]\n",
    "\n",
    "print(len(copy_df_x))\n",
    "print(len(copy_df_y))\n",
    "print(len(copy_df_z))"
   ]
  },
  {
   "cell_type": "markdown",
   "id": "2415cd9b",
   "metadata": {},
   "source": [
    "C. /Discuss:/"
   ]
  },
  {
   "cell_type": "code",
   "execution_count": 10,
   "id": "26d6684c",
   "metadata": {},
   "outputs": [],
   "source": [
    "# C\n",
    "\n",
    "# We clearly see that the size of our data is smaller, proving that there were\n",
    "# some information that "
   ]
  },
  {
   "cell_type": "markdown",
   "id": "da1cf129-09dd-47b1-9737-2c4d57eb8853",
   "metadata": {},
   "source": [
    "### 1.4 (3 pt)\n",
    "\n",
    "Now that our answer columns are nicely formatted, let's take a look at model performance:\n",
    "\n",
    "A. Both the `MMLU` dataframes and the language model score data frames have the columns `question_id`. For each of the language model score data frames, use an inner join operation with the `df_test` dataframe on the `question_id` column.\n",
    "\n",
    "B. Add a new column to each of the resulting dataframes called `correct`, that checks if the model's answer in `result` is the same as the expected answer in the column `answer`. Then, print the average score of each model."
   ]
  },
  {
   "cell_type": "code",
   "execution_count": 11,
   "id": "e66b36f3-f5a4-4237-9b48-39b21716d7aa",
   "metadata": {},
   "outputs": [],
   "source": [
    "# A\n",
    "copy_df_test = df_test[['question_id', 'answer']].copy()\n",
    "merge_x = pd.merge(copy_df_test, copy_df_x, on='question_id', how='inner')\n",
    "merge_y = pd.merge(copy_df_test, copy_df_y, on='question_id', how='inner')\n",
    "merge_z = pd.merge(copy_df_test, copy_df_z, on='question_id', how='inner')\n"
   ]
  },
  {
   "cell_type": "code",
   "execution_count": 12,
   "id": "50b024d2",
   "metadata": {},
   "outputs": [
    {
     "name": "stdout",
     "output_type": "stream",
     "text": [
      "Accuracy for model X: 0.7679475722371165\n",
      "Accuracy for model Y: 0.7451837967301885\n",
      "Accuracy for model Z: 0.6605961949333604\n"
     ]
    }
   ],
   "source": [
    "# B\n",
    "\n",
    "res_col_x = merge_x.assign(correct=merge_x['answer'] == merge_x['result'])\n",
    "res_col_y = merge_y.assign(correct=merge_y['answer'] == merge_y['result'])\n",
    "res_col_z = merge_z.assign(correct=merge_z['answer'] == merge_z['result'])\n",
    "\n",
    "average_x = res_col_x['correct'].mean()\n",
    "average_y = res_col_y['correct'].mean()\n",
    "average_z = res_col_z['correct'].mean()\n",
    "\n",
    "print(f\"Accuracy for model X: {average_x}\")\n",
    "print(f\"Accuracy for model Y: {average_y}\")\n",
    "print(f\"Accuracy for model Z: {average_z}\")\n"
   ]
  },
  {
   "cell_type": "markdown",
   "id": "69decfd8-8083-4c2f-8263-a153d55efede",
   "metadata": {},
   "source": [
    "### 1.5 (5 pt)\n",
    "\n",
    "Hmmm, something doesn't seem quite right. Let's investigate how \"balanced\" this dataset is:\n",
    "\n",
    "A. For each of the 57 subjects in the MMLU, compare the number of questions answered by each model. Print the subjects for which there is a more than 10% difference.\n",
    "\n",
    "B. Propose and implement a reasonable way to rebalance the results. (e.g., while throwing away 100% of the results perfectly rebalances the results, it is not reasonable).\n",
    "\n",
    "C. Finally, print the updated accuracy on the rebalanced data.\n",
    "\n",
    "**hint:**:\n",
    "- (A) For a given subject, let model X and model Y have answered 181 and 200 questions respectively. You can consider this a 10% difference from the perspective of X since: (200 - 181) / 181 > 0.10"
   ]
  },
  {
   "cell_type": "code",
   "execution_count": 13,
   "id": "19463002-732b-405b-8b44-77f702bdb665",
   "metadata": {},
   "outputs": [],
   "source": [
    "per_subject_x = pd.merge(copy_df_x, df_test[['question_id', 'subject']], on='question_id', how='inner')\n",
    "per_subject_y = pd.merge(copy_df_y, df_test[['question_id', 'subject']], on='question_id', how='inner')\n",
    "per_subject_z = pd.merge(copy_df_z, df_test[['question_id', 'subject']], on='question_id', how='inner')\n",
    "\n",
    "per_subject_x = per_subject_x.groupby('subject')\n",
    "per_subject_y = per_subject_y.groupby('subject')\n",
    "per_subject_z = per_subject_z.groupby('subject')\n",
    "\n",
    "number_answered_x = per_subject_x.size()\n",
    "number_answered_y = per_subject_y.size()\n",
    "number_answered_z = per_subject_z.size()\n",
    "\n",
    "diff_xy = (number_answered_y - number_answered_x) / number_answered_x\n",
    "above_xy = diff_xy[diff_xy.abs() > 0.10]\n",
    "\n",
    "diff_yz = (number_answered_z - number_answered_y) / number_answered_y\n",
    "above_yz = diff_yz[diff_yz.abs() > 0.10]\n",
    "\n",
    "diff_zx = (number_answered_x - number_answered_z) / number_answered_z\n",
    "above_zx = diff_zx[diff_zx.abs() > 0.10]\n",
    "\n"
   ]
  },
  {
   "cell_type": "code",
   "execution_count": 14,
   "id": "2fb8c324",
   "metadata": {},
   "outputs": [
    {
     "name": "stderr",
     "output_type": "stream",
     "text": [
      "/var/folders/g1/hq_ymt617dz0gqxr47f1v5p40000gn/T/ipykernel_48828/3336559460.py:15: DeprecationWarning: DataFrameGroupBy.apply operated on the grouping columns. This behavior is deprecated, and in a future version of pandas the grouping columns will be excluded from the operation. Either pass `include_groups=False` to exclude the groupings or explicitly select the grouping columns after groupby to silence this warning.\n",
      "  balance_x = per_subject_x.apply(lambda group: limit_rows(group, min_xyz))\n",
      "/var/folders/g1/hq_ymt617dz0gqxr47f1v5p40000gn/T/ipykernel_48828/3336559460.py:16: DeprecationWarning: DataFrameGroupBy.apply operated on the grouping columns. This behavior is deprecated, and in a future version of pandas the grouping columns will be excluded from the operation. Either pass `include_groups=False` to exclude the groupings or explicitly select the grouping columns after groupby to silence this warning.\n",
      "  balance_y = per_subject_y.apply(lambda group: limit_rows(group, min_xyz))\n",
      "/var/folders/g1/hq_ymt617dz0gqxr47f1v5p40000gn/T/ipykernel_48828/3336559460.py:17: DeprecationWarning: DataFrameGroupBy.apply operated on the grouping columns. This behavior is deprecated, and in a future version of pandas the grouping columns will be excluded from the operation. Either pass `include_groups=False` to exclude the groupings or explicitly select the grouping columns after groupby to silence this warning.\n",
      "  balance_z = per_subject_z.apply(lambda group: limit_rows(group, min_xyz))\n"
     ]
    },
    {
     "data": {
      "text/html": [
       "<div>\n",
       "<style scoped>\n",
       "    .dataframe tbody tr th:only-of-type {\n",
       "        vertical-align: middle;\n",
       "    }\n",
       "\n",
       "    .dataframe tbody tr th {\n",
       "        vertical-align: top;\n",
       "    }\n",
       "\n",
       "    .dataframe thead th {\n",
       "        text-align: right;\n",
       "    }\n",
       "</style>\n",
       "<table border=\"1\" class=\"dataframe\">\n",
       "  <thead>\n",
       "    <tr style=\"text-align: right;\">\n",
       "      <th></th>\n",
       "      <th></th>\n",
       "      <th>question_id</th>\n",
       "      <th>result</th>\n",
       "      <th>subject</th>\n",
       "    </tr>\n",
       "    <tr>\n",
       "      <th>subject</th>\n",
       "      <th></th>\n",
       "      <th></th>\n",
       "      <th></th>\n",
       "      <th></th>\n",
       "    </tr>\n",
       "  </thead>\n",
       "  <tbody>\n",
       "    <tr>\n",
       "      <th rowspan=\"5\" valign=\"top\">abstract algebra</th>\n",
       "      <th>0</th>\n",
       "      <td>1</td>\n",
       "      <td>D</td>\n",
       "      <td>abstract algebra</td>\n",
       "    </tr>\n",
       "    <tr>\n",
       "      <th>1</th>\n",
       "      <td>4</td>\n",
       "      <td>D</td>\n",
       "      <td>abstract algebra</td>\n",
       "    </tr>\n",
       "    <tr>\n",
       "      <th>2</th>\n",
       "      <td>5</td>\n",
       "      <td>C</td>\n",
       "      <td>abstract algebra</td>\n",
       "    </tr>\n",
       "    <tr>\n",
       "      <th>3</th>\n",
       "      <td>7</td>\n",
       "      <td>C</td>\n",
       "      <td>abstract algebra</td>\n",
       "    </tr>\n",
       "    <tr>\n",
       "      <th>4</th>\n",
       "      <td>8</td>\n",
       "      <td>B</td>\n",
       "      <td>abstract algebra</td>\n",
       "    </tr>\n",
       "  </tbody>\n",
       "</table>\n",
       "</div>"
      ],
      "text/plain": [
       "                    question_id result           subject\n",
       "subject                                                 \n",
       "abstract algebra 0            1      D  abstract algebra\n",
       "                 1            4      D  abstract algebra\n",
       "                 2            5      C  abstract algebra\n",
       "                 3            7      C  abstract algebra\n",
       "                 4            8      B  abstract algebra"
      ]
     },
     "execution_count": 14,
     "metadata": {},
     "output_type": "execute_result"
    }
   ],
   "source": [
    "# B\n",
    "\n",
    "# We create a balanced list by combining the number of answered questions / subject for \n",
    "# df_x and df_y \n",
    "min_xy = number_answered_x.combine(number_answered_y, min) \n",
    "\n",
    "# We finally create the \"full\" balanced list by combining our previous one with df_z\n",
    "min_xyz = number_answered_z.combine(min_xy, min)\n",
    "\n",
    "\n",
    "def limit_rows(group, min_counts):\n",
    "    subject = group.name \n",
    "    return group.head(min_counts[subject])\n",
    "\n",
    "balance_x = per_subject_x.apply(lambda group: limit_rows(group, min_xyz))\n",
    "balance_y = per_subject_y.apply(lambda group: limit_rows(group, min_xyz))\n",
    "balance_z = per_subject_z.apply(lambda group: limit_rows(group, min_xyz))\n",
    "\n",
    "balance_y.head()\n"
   ]
  },
  {
   "cell_type": "code",
   "execution_count": 15,
   "id": "affc3746",
   "metadata": {},
   "outputs": [
    {
     "name": "stdout",
     "output_type": "stream",
     "text": [
      "Updated accuracy for model X: 0.7664218034706697\n",
      "Updated accuracy for model Y: 0.7452358139039711\n",
      "Updated accuracy for model Z: 0.6610241669328223\n"
     ]
    }
   ],
   "source": [
    "# C\n",
    "\n",
    "updated_balance_x = pd.merge(balance_x, df_test[['question_id', 'answer']], on='question_id', how='inner')\n",
    "updated_balance_y = pd.merge(balance_y, df_test[['question_id', 'answer']], on='question_id', how='inner')\n",
    "updated_balance_z = pd.merge(balance_z, df_test[['question_id', 'answer']], on='question_id', how='inner')\n",
    "\n",
    "\n",
    "updated_balance_x =updated_balance_x.assign(correct=updated_balance_x['answer'] == updated_balance_x['result'])\n",
    "updated_balance_y = updated_balance_y.assign(correct=updated_balance_y['answer'] == updated_balance_y['result'])\n",
    "updated_balance_z = updated_balance_z.assign(correct=updated_balance_z['answer'] == updated_balance_z['result'])\n",
    "\n",
    "new_average_x = updated_balance_x['correct'].mean()\n",
    "new_average_y = updated_balance_y['correct'].mean() \n",
    "new_average_z = updated_balance_z['correct'].mean() \n",
    "\n",
    "print(f\"Updated accuracy for model X: {new_average_x}\")\n",
    "print(f\"Updated accuracy for model Y: {new_average_y}\")\n",
    "print(f\"Updated accuracy for model Z: {new_average_z}\")\n"
   ]
  },
  {
   "cell_type": "markdown",
   "id": "292b2f61-0529-4b6d-a3a7-af786a4d79ae",
   "metadata": {},
   "source": [
    "## Task 2 (26 points): What do you mean A > D > B > C...?\n",
    "\n",
    "Nice work! Having successfully inspected, cleaned, and rebalanced the provided data, you head over to director of the government's NEUTRALITY project. Ms. Sakota is happy with your work so far, but worried that the sloppy intern might have done more undetected damage. To be sure, she orders a new set of evaluations of all models on both MMLU and another dataset.\n",
    "\n",
    "After cleaning up and rebalancing, you are left with the concatenated score files in the second folder `task_2`:\n",
    "```\n",
    "task_2/\n",
    "│\n",
    "└── lm_scores_mmlu.csv\n",
    "│\n",
    "└── lm_scores_other.csv\n",
    "```\n",
    "\n",
    "Each has a new column called `model_name`, which is one of `X, Y` or `Z`.\n",
    "\n",
    "\n",
    "\n",
    "_NOTE: **only** use data from `task_2` and `task_2_5` for this assignment! The values in `lm_scores_mmlu.csv` will NOT be the same as the dataframes you finished in task 1. This is due to \"randomness\" or \"temperature\" in language model inference. This can slightly shift around generative results. (Conveniently: it also ensures any mistakes made in Task 1 don't propogate further ;) )_"
   ]
  },
  {
   "cell_type": "code",
   "execution_count": 16,
   "id": "a889a76b-e034-4d2f-929e-0ef1f250a0a0",
   "metadata": {},
   "outputs": [],
   "source": [
    "# PROVIDED CODE\n",
    "df_mmlu = pd.read_csv('task_2/lm_scores_mmlu.csv')\n",
    "df_other = pd.read_csv('task_2/lm_scores_other.csv')\n",
    "\n",
    "import scipy"
   ]
  },
  {
   "cell_type": "markdown",
   "id": "c31edde3-cc91-4d08-81c7-b5e98cf0ff9c",
   "metadata": {},
   "source": [
    "### 2.1 (4 pt)\n",
    "\n",
    "Let's explore the new results:\n",
    "\n",
    "A. Compute the mean accuracy and standard errors of each model on both datasets and print the results.\n",
    "\n",
    "B. Then, show your results in a bar plot using standard errors with a 95% confidence interval around the mean. Make sure the plot is easy to read and well annotated.\n",
    "\n",
    "C. /Discuss:/ the plot you created: (i) can you say that one of the models is the best? (ii) is there anything that seems odd?"
   ]
  },
  {
   "cell_type": "code",
   "execution_count": 17,
   "id": "56fe8cca-acd1-4f5e-a938-e8d3a850f220",
   "metadata": {},
   "outputs": [
    {
     "name": "stdout",
     "output_type": "stream",
     "text": [
      "The means for the MMLU are :\n",
      "0.7435875512995896\n",
      "0.7615424076607387\n",
      "0.6559507523939808\n",
      "and the standard errors for the MMLU are:\n",
      "0.004037713456574967\n",
      "0.003940510695325721\n",
      "0.004392844300172015\n",
      "The means for the other are :\n",
      "0.787975525405693\n",
      "0.7209364192604416\n",
      "0.6717212024474595\n",
      "and the standard errors for the other are:\n",
      "0.006667622050812724\n",
      "0.007316808287338864\n",
      "0.007660154999876901\n"
     ]
    }
   ],
   "source": [
    "mmlu_mean = [df_mmlu[df_mmlu['model_name'] == 'X']['correct'].mean(), \n",
    "             df_mmlu[df_mmlu['model_name'] == 'Y']['correct'].mean(), \n",
    "             df_mmlu[df_mmlu['model_name'] == 'Z']['correct'].mean()]\n",
    "\n",
    "mmlu_std = [ df_mmlu[df_mmlu['model_name'] == 'X']['correct'].std() / np.sqrt(len(df_mmlu[df_mmlu['model_name'] == 'X'])),\n",
    "             df_mmlu[df_mmlu['model_name'] == 'Y']['correct'].std() / np.sqrt(len(df_mmlu[df_mmlu['model_name'] == 'Y'])),\n",
    "             df_mmlu[df_mmlu['model_name'] == 'Z']['correct'].std() / np.sqrt(len(df_mmlu[df_mmlu['model_name'] == 'Z']))]\n",
    "\n",
    "print('The means for the MMLU are :', *mmlu_mean, sep='\\n')\n",
    "print('and the standard errors for the MMLU are:', *mmlu_std, sep='\\n')  \n",
    "\n",
    "other_mean = [df_other[df_other['model_name'] == 'X']['correct'].mean(), \n",
    "             df_other[df_other['model_name'] == 'Y']['correct'].mean(), \n",
    "             df_other[df_other['model_name'] == 'Z']['correct'].mean()]\n",
    "\n",
    "other_std = [ df_other[df_other['model_name'] == 'X']['correct'].std() / np.sqrt(len(df_other[df_other['model_name'] == 'X'])),\n",
    "             df_other[df_other['model_name'] == 'Y']['correct'].std() / np.sqrt(len(df_other[df_other['model_name'] == 'Y'])),\n",
    "             df_other[df_other['model_name'] == 'Z']['correct'].std() / np.sqrt(len(df_other[df_other['model_name'] == 'Z'])),]  \n",
    "\n",
    "print('The means for the other are :', *other_mean, sep='\\n')\n",
    "print('and the standard errors for the other are:', *other_std, sep='\\n')  "
   ]
  },
  {
   "cell_type": "code",
   "execution_count": 18,
   "id": "d3a176c6",
   "metadata": {},
   "outputs": [
    {
     "data": {
      "image/png": "[encoded data removed]",
      "text/plain": [
       "<Figure size 640x480 with 1 Axes>"
      ]
     },
     "metadata": {},
     "output_type": "display_data"
    }
   ],
   "source": [
    "bar_width = 0.35\n",
    "\n",
    "plt.bar(np.arange(len(mmlu_mean)), mmlu_mean, yerr=mmlu_std, width=bar_width)\n",
    "plt.bar(np.arange(len(other_mean)) + bar_width, other_mean, yerr = other_std, width=bar_width)\n",
    "# Set labels for x-axis ticks\n",
    "plt.xticks(np.arange(len(mmlu_mean)) + bar_width / 2, ['Model X', 'Model Y', 'Model Z'])\n",
    "# Add axis labels and title\n",
    "plt.ylabel('Mean Accuracy')\n",
    "plt.title('Mean Accuracy with Standard Errors (Blue = M, Orange = O)')\n",
    "\n",
    "# Show the plot\n",
    "plt.show()\n"
   ]
  },
  {
   "cell_type": "markdown",
   "id": "65c9fbfe",
   "metadata": {},
   "source": [
    "C. /Discuss:/"
   ]
  },
  {
   "cell_type": "code",
   "execution_count": 19,
   "id": "d7c3771b",
   "metadata": {},
   "outputs": [],
   "source": [
    "# C\n",
    "\n",
    "# We observe that model LLMU has smaller error bars, showing that the \n",
    "# model's performance has less variability, suggesting that the model is more consistent\n",
    "# across the data. In contrast, larger error bars show more variability, which could \n",
    "# indicate that the model’s performance is less reliable or more dependent on specific \n",
    "# factors in the dataset."
   ]
  },
  {
   "cell_type": "markdown",
   "id": "eee0ec62-f2d1-4bae-a6f6-221320d602cb",
   "metadata": {},
   "source": [
    "### 2.2 (5 pt)\n",
    "\n",
    "Ms. Sakota has assured you that both datasets contain questions of similar difficulty, so, what could be going on here?\n",
    "\n",
    "A. What is the distribution of correct answers (A, B, C, D) for each dataset? Create a bar chart to visualize this.\n",
    "\n",
    "B. Perform a chi-square test at $\\alpha = 0.05$, of independence to determine if there's a significant difference in the distribution of correct answers between the two datasets. What do you conclude?\n",
    "\n",
    "**hints**:\n",
    "- for (A), keep in mind that df_mmlu and df_other contain the results of all models, i.e., the `question_id` column is duplicated.\n",
    "- for (A), take care to clearly annotate the bar chart, e.g., title, y-label, legend.\n",
    "- for (B), clearly state the null hypothesis and alternative hypothesis\n",
    "- use the `chi2_contingency` function from `scipy.stats`\n",
    "- format your results from answer (A) as a 2D array"
   ]
  },
  {
   "cell_type": "code",
   "execution_count": 20,
   "id": "30b16f70-93e0-4a19-8a6d-b3ae5a75ae65",
   "metadata": {},
   "outputs": [
    {
     "data": {
      "image/png": "[encoded data removed]",
      "text/plain": [
       "<Figure size 640x480 with 1 Axes>"
      ]
     },
     "metadata": {},
     "output_type": "display_data"
    }
   ],
   "source": [
    "# A\n",
    "correct_mmlu = df_mmlu[df_mmlu['result'] == df_mmlu['answer']]\n",
    "correct_other = df_other[df_other['result'] == df_other['answer']]\n",
    "\n",
    "# Calculate the distribution of correct answers, fill missing values with 0\n",
    "correct_dist_mmlu = correct_mmlu['answer'].value_counts().reindex(['A', 'B', 'C', 'D'], fill_value=0)\n",
    "correct_dist_other = correct_other['answer'].value_counts().reindex(['A', 'B', 'C', 'D'], fill_value=0)\n",
    "\n",
    "# Normalize the distributions (calculate probabilities)\n",
    "proba_answer_mmlu = correct_dist_mmlu / correct_dist_mmlu.sum()\n",
    "proba_answer_other = correct_dist_other / correct_dist_other.sum()\n",
    "\n",
    "# Plot the distributions as probabilities\n",
    "labels = ['A', 'B', 'C', 'D']\n",
    "x = np.arange(len(labels))\n",
    "bar_width = 0.35\n",
    "\n",
    "fig, ax = plt.subplots()\n",
    "\n",
    "# Plot the normalized probabilities (use proba_answer_mmlu and proba_answer_other)\n",
    "bars1 = ax.bar(x - bar_width/2, proba_answer_mmlu, bar_width, label='MMLU')\n",
    "bars2 = ax.bar(x + bar_width/2, proba_answer_other, bar_width, label='Other')\n",
    "\n",
    "# Add labels and title\n",
    "ax.set_xlabel('Answer')\n",
    "ax.set_ylabel('Proportion')  # Since we are plotting probabilities\n",
    "ax.set_title('Distribution of Correct Answers (A, B, C, D) for MMLU and Other Datasets')\n",
    "ax.set_xticks(x)\n",
    "ax.set_xticklabels(labels)\n",
    "ax.legend()\n",
    "\n",
    "plt.show()\n",
    "\n",
    "result_2d_array = np.array([correct_dist_mmlu.values, correct_dist_other.values])\n"
   ]
  },
  {
   "cell_type": "code",
   "execution_count": 21,
   "id": "92392cd7",
   "metadata": {},
   "outputs": [
    {
     "data": {
      "text/plain": [
       "0.0"
      ]
     },
     "execution_count": 21,
     "metadata": {},
     "output_type": "execute_result"
    }
   ],
   "source": [
    "# B\n",
    "\n",
    "# Our null hypothesis is that the distribution of correct answers is the same for both datasets\n",
    "\n",
    "contingency_table = [correct_dist_mmlu, correct_dist_other]\n",
    "\n",
    "# Perform the chi-square test\n",
    "chi2, p_value, dof, expected = scipy.stats.chi2_contingency(contingency_table, correction=False)\n",
    "\n",
    "p_value\n",
    "\n",
    "# Since our p-value = 0, we reject the null hypothesis, meaning that the distributions of correct answers\n",
    "# differ significantly between the two datasets."
   ]
  },
  {
   "cell_type": "markdown",
   "id": "2d3125ad-5a7e-44e7-999a-a0ff99855d39",
   "metadata": {},
   "source": [
    "### 2.3 (7 pt)\n",
    "\n",
    "Let's dive in deeper:\n",
    "\n",
    "A. What is language model X's mean accuracy conditioned on the four answer options for each dataset?\n",
    "\n",
    "B. Compare LM X's performance when the correct answer is \"A\" between the two datasets. Use a T-test with CI = 0.95. What do you conclude?\n",
    "\n",
    "C. Compare LM X's performance when the correct answer is \"A\" vs. \"C or D\" for each dataset. Use a T-test with CI = 0.95. What do you conclude?"
   ]
  },
  {
   "cell_type": "code",
   "execution_count": 36,
   "id": "39097a11-8efe-46d1-8bc3-5587bb58d199",
   "metadata": {},
   "outputs": [
    {
     "data": {
      "text/plain": [
       "(answer\n",
       " A    0.972688\n",
       " B    0.799185\n",
       " C    0.707905\n",
       " D    0.633592\n",
       " Name: correct, dtype: float64,\n",
       " answer\n",
       " A    0.974026\n",
       " B    0.806452\n",
       " C    0.676407\n",
       " D    0.603744\n",
       " Name: correct, dtype: float64)"
      ]
     },
     "execution_count": 36,
     "metadata": {},
     "output_type": "execute_result"
    }
   ],
   "source": [
    "# A\n",
    "\n",
    "mmlu_X = df_mmlu[df_mmlu['model_name'] == 'X']\n",
    "mmlu_X.loc[:, 'correct'] = mmlu_X['result'] == mmlu_X['answer']\n",
    "X_by_answer_mmlu = mmlu_X.groupby('answer')['correct'].mean()\n",
    "\n",
    "\n",
    "other_X = df_other[df_other['model_name'] == 'X']\n",
    "other_X.loc[:, 'correct'] = other_X['result'] == other_X['answer']\n",
    "X_by_answer_other = other_X.groupby('answer')['correct'].mean()\n",
    "\n",
    "X_by_answer_mmlu, X_by_answer_other"
   ]
  },
  {
   "cell_type": "code",
   "execution_count": 23,
   "id": "9ae67c09",
   "metadata": {},
   "outputs": [
    {
     "name": "stdout",
     "output_type": "stream",
     "text": [
      "T-statistic: -0.21059510911432247\n",
      "P-value: 0.8332191972699248\n"
     ]
    }
   ],
   "source": [
    "# B\n",
    "\n",
    "mmlu_X_A = mmlu_X[mmlu_X['answer'] == 'A']\n",
    "other_X_A = other_X[other_X['answer'] == 'A']\n",
    "\n",
    "# We compare each \"correct\" column of both dataframes\n",
    "\n",
    "from scipy import stats\n",
    "\n",
    "t_stat, p_value = stats.ttest_ind(mmlu_X_A['correct'], other_X_A['correct'])\n",
    "print(f\"T-statistic: {t_stat}\")\n",
    "print(f\"P-value: {p_value}\")\n",
    "\n",
    "# Here the p-value is 0.833 > 0.05, so there is no significant difference since we can't reject the null hypothesis"
   ]
  },
  {
   "cell_type": "code",
   "execution_count": 24,
   "id": "636af6a6",
   "metadata": {},
   "outputs": [
    {
     "name": "stdout",
     "output_type": "stream",
     "text": [
      "T-statistic: -0.21059510911432247\n",
      "P-value: 5.334906497224946e-139\n"
     ]
    }
   ],
   "source": [
    "# C\n",
    "\n",
    "mmlu_X_C_or_D = mmlu_X[(mmlu_X['answer'] == 'C') | (mmlu_X['answer'] == 'D')]\n",
    "\n",
    "t_test, p_value = stats.ttest_ind(mmlu_X_A['correct'], mmlu_X_C_or_D['correct'])\n",
    "print(f\"T-statistic: {t_stat}\")\n",
    "print(f\"P-value: {p_value}\")\n",
    "\n",
    "# Here we get a p-value that is almost 0, so we reject the null hypothesis, that is there is a \n",
    "# significant difference in model X's performance when the correct answer is A vs C or D.\n"
   ]
  },
  {
   "cell_type": "markdown",
   "id": "33848ff9-2604-4e48-b5df-3207dc81e9a9",
   "metadata": {},
   "source": [
    "### 2.4 (2 pt)\n",
    "\n",
    "What an intriguing finding! \n",
    "\n",
    "A. Print the mean accuracies conditioned on the correct answer for all LMs for each dataset.\n",
    "\n",
    "B. /Discuss:/ What do you observe?"
   ]
  },
  {
   "cell_type": "code",
   "execution_count": 25,
   "id": "ec53ce2c-866e-440a-ac79-7813cb756782",
   "metadata": {},
   "outputs": [],
   "source": [
    "# A\n",
    "\n",
    "mean_acc_cond_mmlu = df_mmlu[df_mmlu['result'] == df_mmlu['answer']].groupby(['model_name', 'answer'])['correct'].mean()\n",
    "mean_acc_cond_other = df_other[df_other['result'] == df_other['answer']].groupby(['model_name', 'answer'])['correct'].mean()\n",
    "\n"
   ]
  },
  {
   "cell_type": "markdown",
   "id": "4ce58e47",
   "metadata": {},
   "source": [
    "B. /Discuss:/"
   ]
  },
  {
   "cell_type": "markdown",
   "id": "ccdd9d3c-5a03-4b30-84f7-a7dfbee1373e",
   "metadata": {},
   "source": [
    "### 2.5 (2 pt)\n",
    "\n",
    "Concerned with your findings so far, you quickly consult with Ms. Sakota. After thinking it over, Ms. Sakota concludes that more tests are needed. She orders a second round of MMLU results. However, the clever Ms. Sakota thinks of the following twist: while keeping questions fixed, she randomly permutes the position of the correct answer. The new results can be found in the folder `data/task_2_5/`:\n",
    "```\n",
    "task_2_5/\n",
    "│\n",
    "└── lm_scores_mmlu_shuffle.csv\n",
    "```\n",
    "\n",
    "/Discuss:/ Why would Ms. Sakota do this?"
   ]
  },
  {
   "cell_type": "code",
   "execution_count": 26,
   "id": "eada2062",
   "metadata": {},
   "outputs": [],
   "source": [
    "# It tests the robustness of the model's decision-making. By shuffling the correct answers, it ensures\n",
    "# that the model isn't simply memorizing the answer positions or relying on answer patterns.\n",
    "# If the model's accuracy drops significantly when the correct answer's position is shuffled, it may \n",
    "# indicate that the model was learning based on positional bias. \n",
    "# It also tests fairness across all answer choices. The shuffle could help ensure that the model is not \n",
    "# disproportionately favoring certain answer options over others."
   ]
  },
  {
   "cell_type": "markdown",
   "id": "64cc586a",
   "metadata": {},
   "source": [
    "/Discuss:/"
   ]
  },
  {
   "cell_type": "markdown",
   "id": "b9150ae0-dbaa-4c88-bf80-ec03127c6945",
   "metadata": {},
   "source": [
    "### 2.6 (4 pt)\n",
    "\n",
    "Increasingly sceptical of the language models' performance, you read up on proper testing practices. You stumble upon the concept of [test-rested stability](https://en.wikipedia.org/wiki/Repeatability), which roughtly states that:\n",
    "\n",
    "\"_Measurements taken by a single person or instrument on the same item, under the same conditions, and in a short period of time, should have the same results._\"\n",
    "\n",
    "In our case, we would assume an LM would have the same performance on a given question regardless of the correct answer position. One way of testing this is by using the following metric:\n",
    "\n",
    "$$\\text{test-retest metric} = \\frac{1}{N}\\sum_{i=1}^N \\frac{1}{M}\\sum_{j=1}^M c^i_0 c_j^i,$$\n",
    "\n",
    "where $c^i_0 \\in \\{0, 1\\}$ indicates whether the model answers the $i^{\\text{th}}$ question correctly (1 if correct, 0 if incorrect). $c_j^i$ indicates whether the model answers the $i^{\\text{th}}$ question correctly in the $j^{\\text{th}}$ shuffled version of the answer label content. Finally, $M$ is the total number of shuffles and $N$ is the dataset size.\n",
    "\n",
    "Task: compute the test-retest metric for each language model using the original `lm_scores_mmlu.csv` file and the new `lm_scores_mmlu_shuffle.csv` file. Using a bar plot, visualize your results by comparing the accuracy of the original `lm_scores_mmlu.csv` and the test-retest scores.\n",
    "\n",
    "**hints**\n",
    "- what is $M$ in our case?\n",
    "\n",
    "(bonus: no points, but so much sweet, sweet knowledge - check out [the following article](https://arxiv.org/pdf/2406.19470v1))"
   ]
  },
  {
   "cell_type": "code",
   "execution_count": 27,
   "id": "5b55fcfc-6de9-4cd3-bf2d-bde399ae2fbc",
   "metadata": {},
   "outputs": [],
   "source": [
    "# Here M = 1 since she asked to shuffle it just once."
   ]
  },
  {
   "cell_type": "markdown",
   "id": "b70bee6e-0c81-4f5a-b1a8-16a96aa2ae17",
   "metadata": {},
   "source": [
    "### 2.7 (2 pt)\n",
    "\n",
    "A. Using the unshuffled data: For each LM, print the distribution of the answers they give as well as the accuracy conditioned on the answer they give.\n",
    "\n",
    "B. /Discuss:/ Describe what you observe\n",
    "\n",
    "[bonus: not scored, but again _that sweet, sweet knowledge_] Could you think of a plausible explanation?"
   ]
  },
  {
   "cell_type": "code",
   "execution_count": 28,
   "id": "4956581b-d047-46cb-ae71-1508a9a0b466",
   "metadata": {},
   "outputs": [],
   "source": [
    "# A"
   ]
  },
  {
   "cell_type": "markdown",
   "id": "65639228",
   "metadata": {},
   "source": [
    "B. /Discuss:/"
   ]
  },
  {
   "cell_type": "markdown",
   "id": "ce3186fe-ef8e-4af3-9a07-a6081d454e5a",
   "metadata": {},
   "source": [
    "## Task 3 (16 points): What do Questions and Answers look like for a Language Model?\n",
    "\n",
    "While you feel pretty good about the tests you conducted so far, something still bothers you: what if the language models don't see the data like you do? Suddenly, you receive a phone call from a wise AI sage in the West, _Westoda_:\n",
    "\n",
    "```\n",
    "\"Hmm, correct you are, young padawan, to question how the world is seen by large language models! Simple 'text' it is not, hmm? No, no, no! Characters and words, the way of puny humans, this is not, heh heh heh.\n",
    "\n",
    "'Tokens', they use, yes! Mysterious and powerful, these tokens are. Expand our vocabulary, they do, beyond the simple 'a to Z'. Chunky blocks of text, they become, yes! 'Hello world', a simple phrase it may seem. But to a language model, '[24912, 2375]' it might appear, yes! Confusing, it is, hmm?\n",
    "\n",
    "Wise, it would be, to explore these MMLU data points through the eyes of a language model, you think? Yes, yes! Much to learn, there is. The ways of the tokens, understand you must, if truly comprehend the great LMs, you wish to.\n",
    "Meditate on this, you should. The force of natural language processing, strong it is. But patience, you must have, my young padawan. For only through great study and contemplation, will the mysteries of the tokens reveal themselves to you, they will. Yes, hmmm!\"\n",
    "```\n",
    "\n",
    "Admittingly, Westoda at times speaks in riddles… However, he was explaining a crucial aspect of modern LMs called [Tokenization](https://learn.microsoft.com/en-us/dotnet/ai/conceptual/understanding-tokens):\n",
    "\n",
    "\n",
    "“Tokens are words, character sets, or combinations of words and punctuation that are used by [language models (LMs)] to decompose text into. Tokenization is the first step in training”\n",
    "\n",
    "Instead of characters, LMs process natural language using “tokens”. While this is useful for a number of reasons, it does at times introduce some “unintuitive” behavior…"
   ]
  },
  {
   "cell_type": "code",
   "execution_count": 29,
   "id": "e2c66517-938b-4331-9eea-1b23fe4ad9e7",
   "metadata": {},
   "outputs": [
    {
     "name": "stdout",
     "output_type": "stream",
     "text": [
      "humans see: \"hello world\" --> language models see: [24912, 2375]\n"
     ]
    }
   ],
   "source": [
    "# PROVIDED CODE\n",
    "\n",
    "try:\n",
    "    import tiktoken\n",
    "except Exception as e:\n",
    "    print('installing tiktoken package')\n",
    "    \n",
    "    %pip install tiktoken\n",
    "    \n",
    "    import tiktoken\n",
    "\n",
    "def tokenize_text(s):\n",
    "    enc = tiktoken.encoding_for_model('gpt-4o')\n",
    "    tokens = enc.encode(str(s))\n",
    "    return tokens\n",
    "\n",
    "example_string = 'hello world'\n",
    "print(f'humans see: \"{example_string}\" --> language models see: {tokenize_text(example_string)}')"
   ]
  },
  {
   "cell_type": "markdown",
   "id": "3c8019ee-7d52-496f-afff-c96f2f9db08c",
   "metadata": {},
   "source": [
    "### 3.1 (5 pt)\n",
    "\n",
    "Use the provided code in the cell above to \"see the world through the eyes of a language model\":\n",
    "\n",
    "A. Tokenize the questions of the original MMLU data provided in task 1: `task_1/mmlu_data/test.csv` and plot the token distribution (the frequency of each token).\n",
    "\n",
    "B. Same as (A), but now for the answers in columns (columns \"A\", \"B\", \"C\", and \"D\").\n",
    "\n",
    "C. Isolate the tokens for the strings \"A\", \"B\", \"C\", and \"D\", then, for their occurances in both questions and answers, print their relative distribution to each other.\n",
    "\n",
    "**hint**\n",
    "- There are a _lot_ of tokens, consider using a cutoff point and log scale\n",
    "- For (c), they should sum to 1"
   ]
  },
  {
   "cell_type": "code",
   "execution_count": 30,
   "id": "a9a1e97b-3a31-41b1-a9c3-fb84cb1740d9",
   "metadata": {},
   "outputs": [
    {
     "name": "stderr",
     "output_type": "stream",
     "text": [
      "/Applications/anaconda3/envs/ada/lib/python3.11/site-packages/IPython/core/pylabtools.py:170: UserWarning: Glyph 128 (\\x80) missing from current font.\n",
      "  fig.canvas.print_figure(bytes_io, **kw)\n",
      "/Applications/anaconda3/envs/ada/lib/python3.11/site-packages/IPython/core/pylabtools.py:170: UserWarning: Glyph 8835 (\\N{SUPERSET OF}) missing from current font.\n",
      "  fig.canvas.print_figure(bytes_io, **kw)\n",
      "/Applications/anaconda3/envs/ada/lib/python3.11/site-packages/IPython/core/pylabtools.py:170: UserWarning: Glyph 148 (\\x94) missing from current font.\n",
      "  fig.canvas.print_figure(bytes_io, **kw)\n",
      "/Applications/anaconda3/envs/ada/lib/python3.11/site-packages/IPython/core/pylabtools.py:170: UserWarning: Glyph 8744 (\\N{LOGICAL OR}) missing from current font.\n",
      "  fig.canvas.print_figure(bytes_io, **kw)\n",
      "/Applications/anaconda3/envs/ada/lib/python3.11/site-packages/IPython/core/pylabtools.py:170: UserWarning: Glyph 152 (\\x98) missing from current font.\n",
      "  fig.canvas.print_figure(bytes_io, **kw)\n",
      "/Applications/anaconda3/envs/ada/lib/python3.11/site-packages/IPython/core/pylabtools.py:170: UserWarning: Glyph 8704 (\\N{FOR ALL}) missing from current font.\n",
      "  fig.canvas.print_figure(bytes_io, **kw)\n",
      "/Applications/anaconda3/envs/ada/lib/python3.11/site-packages/IPython/core/pylabtools.py:170: UserWarning: Glyph 157 (\\x9d) missing from current font.\n",
      "  fig.canvas.print_figure(bytes_io, **kw)\n"
     ]
    },
    {
     "data": {
      "image/png": "[encoded data removed]",
      "text/plain": [
       "<Figure size 1000x600 with 1 Axes>"
      ]
     },
     "metadata": {},
     "output_type": "display_data"
    }
   ],
   "source": [
    "# A\n",
    "df_test = pd.read_csv('./task_1/mmlu_data/test.csv')\n",
    "df_tokenized = df_test\n",
    "df_tokenized['tokenized_question'] = df_test['question'].apply(tokenize_text)\n",
    "\n",
    "all_tokens = [token for sublist in df_tokenized['question'] for token in sublist]\n",
    "\n",
    "# Step 2: Count the occurrences of each token\n",
    "token_counts = pd.Series(all_tokens).value_counts()\n",
    "\n",
    "# Step 3: Apply a cutoff point (optional)\n",
    "cutoff_point = 5\n",
    "filtered_tokens = token_counts[token_counts > cutoff_point]\n",
    "\n",
    "# Step 4: Plot the distribution with a log scale\n",
    "plt.figure(figsize=(10, 6))\n",
    "plt.bar(filtered_tokens.index.astype(str), filtered_tokens.values)\n",
    "plt.yscale('log')  # Apply log scale to the y-axis\n",
    "plt.xlabel('Token')\n",
    "plt.ylabel('Frequency (log scale)')\n",
    "plt.title('Token Distribution (with cutoff and log scale)')\n",
    "plt.xticks(rotation=90)  # Rotate x-axis labels if there are many tokens\n",
    "plt.show()"
   ]
  },
  {
   "cell_type": "code",
   "execution_count": 31,
   "id": "fe1f8be8",
   "metadata": {},
   "outputs": [],
   "source": [
    "# B"
   ]
  },
  {
   "cell_type": "code",
   "execution_count": 32,
   "id": "cd392df7",
   "metadata": {},
   "outputs": [],
   "source": [
    "# C"
   ]
  },
  {
   "cell_type": "markdown",
   "id": "a674929c-68e1-4cd8-97b3-efa0cdae4874",
   "metadata": {},
   "source": [
    "### 3.2 (3 pt)\n",
    "\n",
    "What if the number of \"A\", \"B\", \"C\", and \"D\" tokens in the question and answer pairs could influence a language model's decisions?\n",
    "\n",
    "A. For each combined question-answers pair, compute: \n",
    "1. the number of \"A\", \"B\", \"C\", and \"D\" tokens; and\n",
    "2. the total number of tokens.\n",
    "3. then, group by the \"correct\" answer and compute the mean frequency of A, B, C, and D tokens and the total number of tokens. \n",
    "4. finally, print your results\n",
    "\n",
    "B. /Discuss:/ What do you think of the hypothesis that the frequency of A, B, C, and D tokens could influence answers?\n"
   ]
  },
  {
   "cell_type": "code",
   "execution_count": 33,
   "id": "25419cc1-f058-4c51-a0aa-577272b8b578",
   "metadata": {},
   "outputs": [],
   "source": [
    "# A"
   ]
  },
  {
   "cell_type": "markdown",
   "id": "3ea8a279",
   "metadata": {},
   "source": [
    "B. /Discuss:/"
   ]
  },
  {
   "cell_type": "markdown",
   "id": "af25ef95-d2ce-4112-87f7-8b0a52755e2a",
   "metadata": {},
   "source": [
    "### 3.3 (4 pt)\n",
    "\n",
    "Three of the most important considerations when deciding between language models are:\n",
    "\n",
    "Quality\n",
    "Costs\n",
    "Speed\n",
    "\n",
    "So far, much of your analysis has focused on quality. However, the government has indicated that they are quite concerned about both the total costs and speed as well. Specifically, it has been brought to their attention that a new `turbo` model has been launched! \n",
    "\n",
    "This model is both cheaper and faster than the models you evaluated so far. However, there is a catch: the context length* is much smaller than that of the other LMS. Namely, it can only process **300** tokens during inference. Meanwhile, the other models can process up to 100K tokens! \n",
    "\n",
    "*_The “context length” refers to the number of tokens that can be given to an LM as input._\n",
    "\n",
    "A. Are there subjects where using the cheaper model might be problematic? I.e., where part of the question and answer(s) might not fit completely in the context?\n",
    "\n",
    "B. /Discuss:/ Can you think of a strategy that would balance the needs of the government?\n",
    "\n",
    "**hint**:\n",
    "- An LM needs to have both the question and the different answer options in its context"
   ]
  },
  {
   "cell_type": "code",
   "execution_count": 34,
   "id": "a88a6fa3-2735-44d7-9944-076cc9f679ed",
   "metadata": {},
   "outputs": [],
   "source": [
    "# A"
   ]
  },
  {
   "cell_type": "markdown",
   "id": "47f8a44a",
   "metadata": {},
   "source": [
    "B. /Dicsuss:/"
   ]
  },
  {
   "cell_type": "markdown",
   "id": "110f07bf-558f-467c-8f66-d88db561d455",
   "metadata": {},
   "source": [
    "### 3.4 (4 pt)\n",
    "\n",
    "/Discuss:/ The time has come to give your final recommendation on the use of LMs in education to the government! Taking into account everything you analyzed in all the preceding tasks (1, 2, and 3), please write a short recommendation consisting of 4 bullet points discussing your concerns.\n",
    "\n",
    "**hint**\n",
    "- Try to use the MECE framework: _Mutually Exclusive Collectively Exhaustive_"
   ]
  },
  {
   "cell_type": "markdown",
   "id": "434a5fa5",
   "metadata": {},
   "source": [
    "/Discuss:/\n",
    "1. \n",
    "\n",
    "2. \n",
    "\n",
    "3. \n",
    "\n",
    "4. "
   ]
  }
 ],
 "metadata": {
  "kernelspec": {
   "display_name": "ada",
   "language": "python",
   "name": "python3"
  },
  "language_info": {
   "codemirror_mode": {
    "name": "ipython",
    "version": 3
   },
   "file_extension": ".py",
   "mimetype": "text/x-python",
   "name": "python",
   "nbconvert_exporter": "python",
   "pygments_lexer": "ipython3",
   "version": "3.11.9"
  }
 },
 "nbformat": 4,
 "nbformat_minor": 5
}
